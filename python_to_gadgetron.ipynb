{
 "cells": [
  {
   "cell_type": "code",
   "execution_count": 2,
   "metadata": {
    "collapsed": true
   },
   "outputs": [],
   "source": [
    "import sys\n",
    "import os\n",
    "\n",
    "sys.path.append(os.environ['GADGETRON_HOME'] + '/share/gadgetron/python')\n",
    "\n",
    "#If Gadgetron is not installed, add the path from the gadgetron source folder\n",
    "#Set GADGETRON_SOURCE to point to the location of the Gadgetron source code\n",
    "#sys.path.append(os.environ['GADGETRON_SOURCE'] + '/gadgets/python/utils')\n",
    "#sys.path.append(os.environ['GADGETRON_SOURCE'] + '/gadgets/python/gadgets')\n",
    "\n",
    "import ismrmrd\n",
    "import ismrmrd.xsd\n",
    "import numpy as np\n",
    "from ismrmrdtools import show\n",
    "from gadgetron import Gadget\n",
    "from gadgetron import gadget_chain_wait\n",
    "from gadgetron import gadget_chain_config\n",
    "from gadgetron import get_last_gadget\n",
    "from tpat_snr_scale import RemOS, NoiseAdj, PCA, CoilReduce, Recon\n",
    "import gadgetron_python_to_xml as p2x\n",
    "import gadgetron_xml_to_python as x2p"
   ]
  },
  {
   "cell_type": "code",
   "execution_count": 3,
   "metadata": {
    "collapsed": true
   },
   "outputs": [],
   "source": [
    "def define_gadget_chain():\n",
    "    g2 = Recon()\n",
    "    g1 = RemOS(next_gadget=g2)\n",
    "    g0 = CoilReduce(next_gadget=g1)\n",
    "    gb = PCA(next_gadget=g0)\n",
    "    ga = NoiseAdj(next_gadget=gb)    \n",
    "    return ga"
   ]
  },
  {
   "cell_type": "code",
   "execution_count": 4,
   "metadata": {
    "collapsed": true
   },
   "outputs": [],
   "source": [
    "g_python = define_gadget_chain()"
   ]
  },
  {
   "cell_type": "code",
   "execution_count": 6,
   "metadata": {
    "collapsed": false
   },
   "outputs": [
    {
     "name": "stdout",
     "output_type": "stream",
     "text": [
      "<?xml version=\"1.0\" encoding=\"UTF-8\"?>\n",
      "<gadgetronStreamConfiguration xsi:schemaLocation=\"http://gadgetron.sf.net/gadgetron gadgetron.xsd\" xmlns=\"http://gadgetron.sf.net/gadgetron\" xmlns:xsi=\"http://www.w3.org/2001/XMLSchema-instance\">\n",
      "<reader>\n",
      "  <slot>1008</slot>\n",
      "  <dll>gadgetron_mricore</dll>\n",
      "  <classname>GadgetIsmrmrdAcquisitionMessageReader</classname>\n",
      "</reader>\n",
      "\n",
      "<writer>\n",
      "  <slot>1022</slot>\n",
      "  <dll>gadgetron_mricore</dll>\n",
      "  <classname>MRIImageWriter</classname>\n",
      "</writer>\n",
      "\n",
      "<gadget>\n",
      "  <name>NoiseAdj</name>\n",
      "  <dll>gadgetron_python</dll>\n",
      "  <classname>PythonGadget</classname>\n",
      "  <property>\n",
      "    <name>python_module</name>\n",
      "    <value>tpat_snr_scale</value>\n",
      "  </property>\n",
      "  <property>\n",
      "    <name>python_class</name>\n",
      "    <value>NoiseAdj</value>\n",
      "  </property>\n",
      "</gadget>\n",
      "\n",
      "<gadget>\n",
      "  <name>PCA</name>\n",
      "  <dll>gadgetron_python</dll>\n",
      "  <classname>PythonGadget</classname>\n",
      "  <property>\n",
      "    <name>python_module</name>\n",
      "    <value>tpat_snr_scale</value>\n",
      "  </property>\n",
      "  <property>\n",
      "    <name>python_class</name>\n",
      "    <value>PCA</value>\n",
      "  </property>\n",
      "</gadget>\n",
      "\n",
      "<gadget>\n",
      "  <name>CoilReduce</name>\n",
      "  <dll>gadgetron_python</dll>\n",
      "  <classname>PythonGadget</classname>\n",
      "  <property>\n",
      "    <name>python_module</name>\n",
      "    <value>tpat_snr_scale</value>\n",
      "  </property>\n",
      "  <property>\n",
      "    <name>python_class</name>\n",
      "    <value>CoilReduce</value>\n",
      "  </property>\n",
      "</gadget>\n",
      "\n",
      "<gadget>\n",
      "  <name>RemOS</name>\n",
      "  <dll>gadgetron_python</dll>\n",
      "  <classname>PythonGadget</classname>\n",
      "  <property>\n",
      "    <name>python_module</name>\n",
      "    <value>tpat_snr_scale</value>\n",
      "  </property>\n",
      "  <property>\n",
      "    <name>python_class</name>\n",
      "    <value>RemOS</value>\n",
      "  </property>\n",
      "</gadget>\n",
      "\n",
      "<gadget>\n",
      "  <name>Recon</name>\n",
      "  <dll>gadgetron_python</dll>\n",
      "  <classname>PythonGadget</classname>\n",
      "  <property>\n",
      "    <name>python_module</name>\n",
      "    <value>tpat_snr_scale</value>\n",
      "  </property>\n",
      "  <property>\n",
      "    <name>python_class</name>\n",
      "    <value>Recon</value>\n",
      "  </property>\n",
      "</gadget>\n",
      "\n",
      "</gadgetronStreamConfiguration>\n",
      "\n"
     ]
    }
   ],
   "source": [
    "print p2x.convert_to_xml(g_python)"
   ]
  },
  {
   "cell_type": "code",
   "execution_count": 9,
   "metadata": {
    "collapsed": false
   },
   "outputs": [
    {
     "name": "stdout",
     "output_type": "stream",
     "text": [
      "# Automatically generated Python representation of /home/hansenms/local/share/gadgetron/config/default.xml\n",
      "\n",
      "from gadgetron import WrapperGadget\n",
      "\n",
      "def define_gadget_chain():\n",
      "    g2 = WrapperGadget(\"gadgetron_mricore\", \"ImageFinishGadget\", gadgetname=\"ImageFinish\", next_gadget=None)\n",
      "    g2.prepend_gadget(\"gadgetron_mricore\", \"ExtractGadget\", gadgetname=\"Extract\")\n",
      "    g2.prepend_gadget(\"gadgetron_mricore\", \"ImageArraySplitGadget\", gadgetname=\"ImageArraySplit\")\n",
      "    g2.prepend_gadget(\"gadgetron_mricore\", \"SimpleReconGadget\", gadgetname=\"SimpleRecon\")\n",
      "    g2.prepend_gadget(\"gadgetron_mricore\", \"BucketToBufferGadget\", gadgetname=\"Buff\")\n",
      "    g2.set_parameter(\"Buff\", \"N_dimension\", \"\")\n",
      "    g2.set_parameter(\"Buff\", \"S_dimension\", \"\")\n",
      "    g2.set_parameter(\"Buff\", \"split_slices\", \"true\")\n",
      "    g2.prepend_gadget(\"gadgetron_mricore\", \"AcquisitionAccumulateTriggerGadget\", gadgetname=\"AccTrig\")\n",
      "    g2.set_parameter(\"AccTrig\", \"trigger_dimension\", \"repetition\")\n",
      "    g2.set_parameter(\"AccTrig\", \"sorting_dimension\", \"slice\")\n",
      "    g2.prepend_gadget(\"gadgetron_mricore\", \"RemoveROOversamplingGadget\", gadgetname=\"RemoveROOversampling\")\n",
      "    return g2\n"
     ]
    }
   ],
   "source": [
    "print x2p.convert_xml(os.environ['GADGETRON_HOME'] + '/share/gadgetron/config/default.xml')"
   ]
  },
  {
   "cell_type": "code",
   "execution_count": null,
   "metadata": {
    "collapsed": true
   },
   "outputs": [],
   "source": []
  }
 ],
 "metadata": {
  "kernelspec": {
   "display_name": "Python 2",
   "language": "python",
   "name": "python2"
  },
  "language_info": {
   "codemirror_mode": {
    "name": "ipython",
    "version": 2
   },
   "file_extension": ".py",
   "mimetype": "text/x-python",
   "name": "python",
   "nbconvert_exporter": "python",
   "pygments_lexer": "ipython2",
   "version": "2.7.6"
  }
 },
 "nbformat": 4,
 "nbformat_minor": 0
}
