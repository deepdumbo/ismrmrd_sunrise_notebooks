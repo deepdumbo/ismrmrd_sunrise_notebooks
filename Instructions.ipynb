{
 "cells": [
  {
   "cell_type": "markdown",
   "metadata": {},
   "source": [
    "##ISMRM 2015 - Sunrise Course"
   ]
  },
  {
   "cell_type": "markdown",
   "metadata": {},
   "source": [
    "### Notebooks\n",
    "\n",
    "The notes for this course have been written in iPython notebooks that can be downloaded from github:\n",
    "\n",
    "    git clone https://github.com/hansenms/ismrmrd_sunrise_notebooks.git"
   ]
  },
  {
   "cell_type": "markdown",
   "metadata": {},
   "source": [
    "### Setup\n",
    "\n",
    "The examples in this course use various Open Source reconstruction tools:\n",
    "\n",
    "* ISMRMRD: [http://ismrmrd.github.io](http://ismrmrd.github.io)\n",
    "    * ISMRMRD C/C++ API: [http://github.com/ismrmrd/ismrmrd](http://github.com/ismrmrd/ismrmrd)\n",
    "    * ISMRMRD Python API: [http://github.com/ismrmrd/ismrmrd-python](http://github.com/ismrmrd/ismrmrd-python)\n",
    "    * ISMRMRD Python Tools: [http://github.com/ismrmrd/ismrmrd-python-tools](http://github.com/ismrmrd/ismrmrd-python-tools)    \n",
    "* Gadgetron: [http://gadgetron.github.io](http://gadgetron.github.io)\n",
    "\n",
    "You can find instructions on how to set up a Linux workstation with all these components installed in these [workstation setup instructions](setup_workstation.ipynb). These instructions also include some hints on setting up your desktop environment and iPython notebooks so that the example code included in this course can be run directly. \n",
    "\n",
    "The examples use a single dataset, it is a rate 2 TSENSE type parallel imaging example with 60 frames. It can be downloaded from here: [meas_MID00140_FID37475_CV_Gadgetron_FL_TPAT2_60REP.h5]( https://s3.amazonaws.com/hansenms.github.io/data/meas_MID00140_FID37475_CV_Gadgetron_FL_TPAT2_60REP.h5)"
   ]
  },
  {
   "cell_type": "markdown",
   "metadata": {
    "collapsed": true
   },
   "source": [
    "### Simple TPAT/TSENSE/TGRAPPA Example\n",
    "\n",
    "The simple \"pure\" Python reconstruction chain used in the course uses modules based on the Gadgetron Python Gadget class, please the the [sources](module_sources.ipynb) notebook for details. To see an example of how to read data and reconstruct with that reconstruction chain, please refer to the [simple_tpat](simple_tpat.ipynb) notebook."
   ]
  },
  {
   "cell_type": "markdown",
   "metadata": {},
   "source": [
    "### Converting between Python and Gadgetron (XML) chains\n",
    "\n",
    "There are some tools available for converting between Python representations of Gadgetron chains and their deployment XML representations. Please see the [python_to_gadgetron](python_to_gadgetron.ipynb) notebook."
   ]
  }
 ],
 "metadata": {
  "kernelspec": {
   "display_name": "Python 2",
   "language": "python",
   "name": "python2"
  },
  "language_info": {
   "codemirror_mode": {
    "name": "ipython",
    "version": 2
   },
   "file_extension": ".py",
   "mimetype": "text/x-python",
   "name": "python",
   "nbconvert_exporter": "python",
   "pygments_lexer": "ipython2",
   "version": "2.7.6"
  }
 },
 "nbformat": 4,
 "nbformat_minor": 0
}
